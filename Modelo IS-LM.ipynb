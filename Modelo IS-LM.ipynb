{
 "cells": [
  {
   "cell_type": "code",
   "execution_count": 1,
   "id": "968ef24d",
   "metadata": {},
   "outputs": [],
   "source": [
    "# Bibliotecas\n",
    "import numpy as np\n",
    "import matplotlib.pyplot as plt\n",
    "from ipywidgets import interactive_output, Layout, FloatSlider, VBox, HBox\n",
    "from sympy import symbols, Eq, solve"
   ]
  },
  {
   "cell_type": "code",
   "execution_count": 2,
   "id": "7061130a",
   "metadata": {},
   "outputs": [
    {
     "data": {
      "application/vnd.jupyter.widget-view+json": {
       "model_id": "ab734e2cc6e74a9cb442ad3751aa3939",
       "version_major": 2,
       "version_minor": 0
      },
      "text/plain": [
       "HBox(children=(Output(), VBox(children=(FloatSlider(value=200.0, continuous_update=False, description='a', max…"
      ]
     },
     "metadata": {},
     "output_type": "display_data"
    },
    {
     "data": {
      "application/vnd.jupyter.widget-view+json": {
       "model_id": "ab734e2cc6e74a9cb442ad3751aa3939",
       "version_major": 2,
       "version_minor": 0
      },
      "text/plain": [
       "HBox(children=(Output(), VBox(children=(FloatSlider(value=200.0, continuous_update=False, description='a', max…"
      ]
     },
     "metadata": {},
     "output_type": "display_data"
    }
   ],
   "source": [
    "# Função da curva IS\n",
    "def curva_is(Y, r, a, b, c, d, G, T):\n",
    "    return ( a + c + G - b*T - d*r) * (1/(1-b))\n",
    "\n",
    "# Função da curva LM\n",
    "def curva_lm(Y, r, k, M, P, e):\n",
    "    return (M/P + k*r)*(1/e)\n",
    "\n",
    "# Função de Equilíbrio IS-LM\n",
    "def equilibrio(Y, r, a, b, c, d, G, T, k, M, P, e, color):\n",
    "    Y_values_, r_values_ = symbols('Y r')\n",
    "    #Definindo a equação onde: curva_is - curva_lm = 0\n",
    "    equation = Eq(curva_is(Y_values_, r_values_, a, b, c, d, G, T) - curva_lm(Y_values_, r_values_, k, M, P, e), 0)\n",
    "    solution = solve(equation, (Y_values_, r_values_))\n",
    "    r_equilibrio = np.array(solution[0][1])\n",
    "    y_equilibrio = np.array((M/P + k*solution[0][1])*(1/e))\n",
    "    plt.scatter(y_equilibrio, r_equilibrio, color=color, zorder=3, s = 15, \n",
    "                label = f\"r 2 = {r_equilibrio:.2f}\\ny 2 = {y_equilibrio:.2f}\")  \n",
    "    plt.vlines(x= y_equilibrio, ymin = 0, ymax=r_equilibrio, linestyle='dashed', color=color, alpha=0.3) \n",
    "    plt.hlines(y= r_equilibrio, xmin = 0, xmax=y_equilibrio, linestyle='dashed', color=color, alpha=0.3) \n",
    "    plt.legend\n",
    "    \n",
    "# Valores limites para o eixo x (Y_values) e o eixo y (r_values)\n",
    "Y_values = np.linspace(100, 2500, 100)\n",
    "r_values = np.linspace(2, 14, 100)\n",
    "\n",
    "Y_values_ = Y_values\n",
    "r_values_ = r_values\n",
    "\n",
    "def update_grafico(a=200, b=0.75, c=200, d=25, G=100, T=100, k=100, M=1000, P=2, e=1):\n",
    "    \n",
    "    IS_values = curva_is(Y_values, r_values, a, b, c, d, G, T)\n",
    "    LM_values = curva_lm(Y_values, r_values, k, M, P, e)\n",
    "    \n",
    "    #Equilíbrio\n",
    "    color = 'darkgreen'\n",
    "    equilibrio(Y_values_, r_values_, a, b, c, d, G, T, k, M, P, e, color)\n",
    "    \n",
    "    #Gráficos\n",
    "    plt.plot(IS_values, r_values, color = 'black', linestyle = '--', alpha=0.9)\n",
    "    plt.plot(LM_values, r_values, color = 'mediumblue', linestyle = '--', alpha=0.9)\n",
    "    \n",
    "    #Parâmetros gerais do Gráfico\n",
    "    plt.xlabel('Produto (Y)')\n",
    "    plt.ylabel('Taxa de Juros (r)')\n",
    "    plt.title('Curvas IS-LM: Interativo', fontsize = 14)\n",
    "    plt.xlim(0, max(Y_values))\n",
    "    plt.ylim(0, max(r_values)+2)\n",
    "    plt.xticks(np.arange(0, max(Y_values), step=500))\n",
    "    plt.yticks(np.arange(0, max(r_values)+2, step=2))\n",
    "    plt.grid(True)\n",
    "    setup_grafico()\n",
    "    plt.show()\n",
    "    \n",
    "def setup_grafico():    \n",
    "\n",
    "    #Parâmetros das funções\n",
    "    a = 200  # Consumo autônomo\n",
    "    b = 0.75  # Propensão marginal a consumir\n",
    "    c = 200 # Investimento autônomo\n",
    "    d = 25 # Sensibilidade do investimento à taxa de juros\n",
    "    G = 100  # Gastos do governo\n",
    "    T = 100  # Tributos\n",
    "    M = 1000  # Demanda por moeda\n",
    "    P = 2 # Nível de Preços\n",
    "    k = 100  # Sensibilidade da demanda por moeda à taxa de juros\n",
    "    e = 1 # Sensibilidade demanda por moeda à renda\n",
    "   \n",
    "    # Calculo das curvas IS e LM\n",
    "    IS_values = curva_is(Y_values, r_values, a, b, c, d, G, T)\n",
    "    LM_values = curva_lm(Y_values, r_values, k, M, P, e)\n",
    "    \n",
    "    #Equilíbrio\n",
    "    color = 'red'\n",
    "    equilibrio(Y_values_, r_values_, a, b, c, d, G, T, k, M, P, e, color)\n",
    "    \n",
    "    #Gráficos\n",
    "    plt.plot(IS_values, r_values, color = 'black')\n",
    "    plt.plot(LM_values, r_values, color = 'mediumblue')\n",
    "    plt.legend()\n",
    "\n",
    "# Parâmetros do Slider\n",
    "a_slider = FloatSlider(value=200, min=0, max=500, description='a', continuous_update=False)\n",
    "b_slider = FloatSlider(value=0.75, min=0.1, max=1.0, description='b', continuous_update=False)\n",
    "c_slider = FloatSlider(value=200, min=100, max=500, description='c', continuous_update=False)\n",
    "d_slider = FloatSlider(value=25, min=10, max=50, description='d', continuous_update=False)\n",
    "G_slider = FloatSlider(value=100, min=0, max=1000, description='G', continuous_update=False)\n",
    "T_slider = FloatSlider(value=100, min=0, max=200, description='T', continuous_update=False)\n",
    "k_slider = FloatSlider(value=100, min=0, max=300, description='k', continuous_update=False)\n",
    "M_slider = FloatSlider(value=1000, min=500, max=4000, description='M', continuous_update=False)\n",
    "P_slider = FloatSlider(value=2, min=1, max=5, description='P', continuous_update=False)\n",
    "e_slider = FloatSlider(value=1, min=0.1, max=2, description='e', continuous_update=False)\n",
    "\n",
    "# Layout dos sliders\n",
    "slider_layout = Layout(width='200px')\n",
    "\n",
    "# Criar layout de coluna única\n",
    "controls_column = VBox([a_slider, b_slider, c_slider, d_slider, G_slider, T_slider, k_slider, M_slider, P_slider, e_slider],\n",
    "                       layout=Layout(display='flex', flex_flow='column'))\n",
    "\n",
    "# Criar saída interativa\n",
    "output = interactive_output(update_grafico,\n",
    "                             {'a': a_slider, 'b': b_slider, 'c': c_slider,\n",
    "                              'd': d_slider, 'G': G_slider, 'T': T_slider,\n",
    "                              'k': k_slider, 'M': M_slider, 'P': P_slider,\n",
    "                              'e': e_slider})\n",
    "\n",
    "# Exibir gráfico e sliders\n",
    "display(HBox([output, controls_column]))"
   ]
  },
  {
   "cell_type": "code",
   "execution_count": null,
   "id": "04b14b29",
   "metadata": {},
   "outputs": [],
   "source": []
  }
 ],
 "metadata": {
  "kernelspec": {
   "display_name": "Python 3 (ipykernel)",
   "language": "python",
   "name": "python3"
  },
  "language_info": {
   "codemirror_mode": {
    "name": "ipython",
    "version": 3
   },
   "file_extension": ".py",
   "mimetype": "text/x-python",
   "name": "python",
   "nbconvert_exporter": "python",
   "pygments_lexer": "ipython3",
   "version": "3.11.3"
  }
 },
 "nbformat": 4,
 "nbformat_minor": 5
}
